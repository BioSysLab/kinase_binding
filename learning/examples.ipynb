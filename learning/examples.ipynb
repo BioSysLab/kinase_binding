{
 "cells": [
  {
   "cell_type": "code",
   "execution_count": null,
   "metadata": {},
   "outputs": [],
   "source": [
    "import pandas as pd\n",
    "from keras.callbacks import History, ReduceLROnPlateau,EarlyStopping,ModelCheckpoint\n",
    "import os\n",
    "import dill\n",
    "import numpy as np\n",
    "from data_analysis import calculate_metrics, load_weights_and_evaluate\n",
    "from model_builders import GCN_pretraining"
   ]
  },
  {
   "cell_type": "markdown",
   "metadata": {
    "colab_type": "text",
    "id": "pH1JEen5noaV"
   },
   "source": [
    "# GCN with pretraining functionality parameters"
   ]
  },
  {
   "cell_type": "code",
   "execution_count": null,
   "metadata": {
    "colab": {},
    "colab_type": "code",
    "id": "kF4F59JpnoL9"
   },
   "outputs": [],
   "source": [
    "# Specify model callbacks on training\n",
    "es = EarlyStopping(monitor='loss',patience=8, min_delta=0)\n",
    "rlr = ReduceLROnPlateau(monitor='loss',factor=0.5, patience=4, verbose=1, min_lr=0.0000001)\n",
    "\n",
    "encoder_params = {\n",
    "        \"num_layers\" : 3,\n",
    "        \"max_atoms\" : 70,\n",
    "        \"num_atom_features\" : 62,\n",
    "        \"num_atom_features_original\" : 62,\n",
    "        \"num_bond_features\" : 6,\n",
    "        \"max_degree\" : 5,\n",
    "        \"conv_width\" : [96,104,120],\n",
    "        \"fp_length\" : [160,160,160],\n",
    "        \"activ_enc\" : \"selu\",\n",
    "        \"activ_dec\" : \"selu\",\n",
    "        \"learning_rates\" : [0.001,0.001,0.001],\n",
    "        \"learning_rates_fp\": [0.005,0.005,0.005],\n",
    "        \"losses_conv\" : {\n",
    "                    \"neighbor_output\": \"mean_squared_error\",\n",
    "                    \"self_output\": \"mean_squared_error\",\n",
    "                    },\n",
    "        \"lossWeights\" : {\"neighbor_output\": 1.0, \"self_output\": 1.0},\n",
    "        \"metrics\" : \"mse\",\n",
    "        \"loss_fp\" : \"mean_squared_error\",\n",
    "        \"enc_layer_names\" : [\"enc_1\", \"enc_2\", \"enc_3\"],\n",
    "        'callbacks' : [es,rlr],\n",
    "        'adam_decay': 0.0005329142291371636,\n",
    "        'beta': 5,\n",
    "        'p': 0.004465204118126482\n",
    "        }\n",
    "model_params = {\n",
    "        'dense_size' : [256,192,96],\n",
    "        'dropout_rate' : [0.354,0.354],\n",
    "        'lr' : 0.007\n",
    "}"
   ]
  },
  {
   "cell_type": "markdown",
   "metadata": {},
   "source": [
    "# Load train, val, test data"
   ]
  },
  {
   "cell_type": "code",
   "execution_count": null,
   "metadata": {},
   "outputs": [],
   "source": [
    "target = 'p38'"
   ]
  },
  {
   "cell_type": "code",
   "execution_count": null,
   "metadata": {},
   "outputs": [],
   "source": [
    "base_path = f'C:/Users/user/Documents/kinase_binding'\n",
    "\n",
    "data_fpath = base_path+f'/data/{target}/data.csv'\n",
    "df=pd.read_csv(data_fpath).set_index('biolab_index')\n",
    "\n",
    "with open(base_path+f'/data/{target}/train_val_folds.pkl', \"rb\") as in_f:\n",
    "    train_val_folds = dill.load(in_f)\n",
    "with open(base_path+f'/data/{target}/train_test_folds.pkl', \"rb\") as in_f:\n",
    "    train_test_folds = dill.load(in_f)"
   ]
  },
  {
   "cell_type": "code",
   "execution_count": null,
   "metadata": {},
   "outputs": [],
   "source": [
    "model_name = 'gcn_pretraining_ensemble_optimized'"
   ]
  },
  {
   "cell_type": "code",
   "execution_count": null,
   "metadata": {},
   "outputs": [],
   "source": [
    "# no need for manual changes in this cell\n",
    "weight_files = os.path.join(base_path, f'results/{target}/{model_name}/fold_{{}}/model_weights/model_{{}}.h5')"
   ]
  },
  {
   "cell_type": "markdown",
   "metadata": {},
   "source": [
    "# Cross validation and test predictions"
   ]
  },
  {
   "cell_type": "code",
   "execution_count": null,
   "metadata": {},
   "outputs": [],
   "source": [
    "n_ensemble = 5"
   ]
  },
  {
   "cell_type": "code",
   "execution_count": null,
   "metadata": {
    "colab": {},
    "colab_type": "code",
    "id": "aUjV9rcPy1Vb",
    "scrolled": true
   },
   "outputs": [],
   "source": [
    "val_preds = []\n",
    "test_preds = []\n",
    "gcn = GCN_pretraining(encoder_params,model_params)\n",
    "for i in range(6):\n",
    "    train_set = df.loc[train_val_folds[i][0]]\n",
    "    val_set = df.loc[train_val_folds[i][1]]\n",
    "    \n",
    "    en_val_preds = []\n",
    "    en_test_preds = []\n",
    "    X_atoms_cold,X_bonds_cold,X_edges_cold = gcn.dataframe_to_gcn_input(val_set)\n",
    "    Y_cold = val_set.Binary\n",
    "    X_atoms_train, X_bonds_train, X_edges_train = gcn.dataframe_to_gcn_input(train_set)\n",
    "    Y = train_set.Binary\n",
    "    X_atoms_test, X_bonds_test, X_edges_test = gcn.dataframe_to_gcn_input(df.loc[train_test_folds[1]])\n",
    "    for j in range(n_ensemble):\n",
    "        gcn_encoder = gcn.build_encoder()\n",
    "        gcn_model = gcn.build_model(gcn_encoder)\n",
    "        gcn_model.fit([X_atoms_train,X_bonds_train,X_edges_train],Y,\n",
    "                    batch_size=64,\n",
    "                    epochs=35,\n",
    "                    verbose=2,\n",
    "                    shuffle=True,\n",
    "                    validation_data=([X_atoms_cold,X_bonds_cold,X_edges_cold],Y_cold))\n",
    "        y_pred_val = gcn_model.predict([X_atoms_cold,X_bonds_cold,X_edges_cold])\n",
    "        y_pred_test = gcn_model.predict([X_atoms_test,X_bonds_test,X_edges_test])\n",
    "        en_val_preds.append(y_pred_val)\n",
    "        en_test_preds.append(y_pred_test)\n",
    "        gcn_model.save_weights(os.path.join(base_path, f'results/{target}/{model_name}/fold_%s/model_weights/model_%s.h5'%(i,j)))\n",
    "    val_preds.append(np.mean(en_val_preds, axis = 0))\n",
    "    test_preds.append(np.mean(en_test_preds, axis = 0))"
   ]
  },
  {
   "cell_type": "markdown",
   "metadata": {},
   "source": [
    "# Calculate metrics from predictions"
   ]
  },
  {
   "cell_type": "code",
   "execution_count": null,
   "metadata": {},
   "outputs": [],
   "source": [
    "dfs = []\n",
    "ave_preds = np.mean(test_preds,axis = 0)\n",
    "for i, y_pred in enumerate(val_preds):\n",
    "    print(f'fold {i}\\n')\n",
    "    y_true = df.loc[train_val_folds[i][1]].Binary\n",
    "    dfs.append(calculate_metrics(y_true.values, y_pred.squeeze(), plots=True))\n",
    "dfs.append(calculate_metrics(train_test_folds[1].Binary.values, ave_preds.squeeze(), plots=True))\n",
    "metrics = pd.DataFrame(dfs)\n",
    "metrics.rename(index={7:'test_set'}, inplace=True)\n",
    "metrics"
   ]
  },
  {
   "cell_type": "markdown",
   "metadata": {},
   "source": [
    "# Calculate metrics from trained weights"
   ]
  },
  {
   "cell_type": "code",
   "execution_count": null,
   "metadata": {},
   "outputs": [],
   "source": [
    "gcn = GCN_pretraining(encoder_params,model_params)\n",
    "gcn_encoder = gcn.build_encoder()\n",
    "gcn_model = gcn.build_model(gcn_encoder)"
   ]
  },
  {
   "cell_type": "code",
   "execution_count": null,
   "metadata": {},
   "outputs": [],
   "source": [
    "preds_val = []\n",
    "preds_test = []\n",
    "dfs = []\n",
    "test_set = df.loc[train_test_folds[1]]\n",
    "for i in range(6):\n",
    "    df_val = df.loc[train_val_folds[i][1]]\n",
    "    y_true = df_val.Binary\n",
    "    val_data = gcn.dataframe_to_gcn_input(df_val)\n",
    "    gcn_model.load_weights(weight_files.format(i,i))\n",
    "    pred_val = gcn_model.predict(val_data, batch_size = 1024)\n",
    "    preds_val.append(pred_val)\n",
    "    test_data = gcn.dataframe_to_gcn_input(test_set)\n",
    "    preds_test.append(gcn_model.predict(test_data,batch_size = 1024))\n",
    "    dfs.append(calculate_metrics(y_true.values, pred_val.squeeze(), plots=True))\n",
    "ave_preds = np.mean(preds_test,axis = 0)\n",
    "dfs.append(calculate_metrics(test_set.Binary.values, ave_preds.squeeze(), plots=True))\n",
    "metrics = pd.DataFrame(dfs)\n",
    "metrics.rename(index={7:'test_set'}, inplace=True)\n",
    "metrics"
   ]
  },
  {
   "cell_type": "code",
   "execution_count": null,
   "metadata": {},
   "outputs": [],
   "source": [
    "metrics.to_csv(os.path.join(base_path, f'results/{target}/{model_name}/performance_metrics/performance_0.csv'))"
   ]
  },
  {
   "cell_type": "markdown",
   "metadata": {},
   "source": [
    "# Evaluate ensemble from weights"
   ]
  },
  {
   "cell_type": "code",
   "execution_count": null,
   "metadata": {},
   "outputs": [],
   "source": [
    "val_sets = [df.loc[train_val_folds[i][1]] for i in range(6)]\n",
    "test_set = df.loc[train_test_folds[1]]\n",
    "eval_params = {\n",
    "    'val_sets' : val_sets,\n",
    "    'test_set' : test_set,\n",
    "    'model_class': gcn,\n",
    "    'model' : gcn_model,\n",
    "    'model_type' : 'gcn',\n",
    "    'weight_file_format' : weight_files,\n",
    "    'n_ensemble' : int(10)\n",
    "}"
   ]
  },
  {
   "cell_type": "code",
   "execution_count": null,
   "metadata": {
    "scrolled": true
   },
   "outputs": [],
   "source": [
    "metrics = load_weights_and_evaluate(eval_params)"
   ]
  },
  {
   "cell_type": "code",
   "execution_count": null,
   "metadata": {},
   "outputs": [],
   "source": [
    "metrics"
   ]
  },
  {
   "cell_type": "code",
   "execution_count": null,
   "metadata": {},
   "outputs": [],
   "source": []
  }
 ],
 "metadata": {
  "accelerator": "GPU",
  "colab": {
   "collapsed_sections": [],
   "name": "akt1_AutoEncoder.ipynb",
   "private_outputs": true,
   "provenance": [],
   "toc_visible": true
  },
  "kernelspec": {
   "display_name": "Python 3",
   "language": "python",
   "name": "python3"
  },
  "language_info": {
   "codemirror_mode": {
    "name": "ipython",
    "version": 3
   },
   "file_extension": ".py",
   "mimetype": "text/x-python",
   "name": "python",
   "nbconvert_exporter": "python",
   "pygments_lexer": "ipython3",
   "version": "3.6.10"
  }
 },
 "nbformat": 4,
 "nbformat_minor": 1
}
