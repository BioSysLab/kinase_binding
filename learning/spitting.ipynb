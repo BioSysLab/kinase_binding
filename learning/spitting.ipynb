{
 "cells": [
  {
   "cell_type": "code",
   "execution_count": 70,
   "metadata": {},
   "outputs": [],
   "source": [
    "from kinase_binding.learning.data_analysis import biolab_indexing, get_distance_matrix, get_morgan_fingerprints\n",
    "from kinase_binding.learning.splts import BiolabSplitter, create_test_set_from_folds\n",
    "from rdkit import Chem\n",
    "import dill\n",
    "\n",
    "import pandas as pd"
   ]
  },
  {
   "cell_type": "markdown",
   "metadata": {},
   "source": [
    "# Split"
   ]
  },
  {
   "cell_type": "code",
   "execution_count": 71,
   "metadata": {},
   "outputs": [],
   "source": [
    "base_path = '../data/p38'"
   ]
  },
  {
   "cell_type": "code",
   "execution_count": 72,
   "metadata": {},
   "outputs": [],
   "source": [
    "data_fpath = base_path+'/data.csv'\n",
    "df=pd.read_csv(data_fpath)\n",
    "if 'Unnamed: 0' in df.columns:\n",
    "    df = df.drop(columns=['Unnamed: 0'])\n",
    "df=biolab_indexing(df, 'rdkit')"
   ]
  },
  {
   "cell_type": "code",
   "execution_count": 73,
   "metadata": {},
   "outputs": [],
   "source": [
    "df.to_csv(data_fpath)"
   ]
  },
  {
   "cell_type": "code",
   "execution_count": 74,
   "metadata": {},
   "outputs": [
    {
     "name": "stdout",
     "output_type": "stream",
     "text": [
      "Calculating Distance Matrix\n"
     ]
    },
    {
     "name": "stderr",
     "output_type": "stream",
     "text": [
      "/Users/panos/anaconda3/envs/biosyslab/lib/python3.7/site-packages/sklearn/metrics/pairwise.py:1738: DataConversionWarning: Data was converted to boolean for metric jaccard\n",
      "  warnings.warn(msg, DataConversionWarning)\n"
     ]
    },
    {
     "name": "stdout",
     "output_type": "stream",
     "text": [
      "Calculated Distance Matrix in 5.87 seconds\n"
     ]
    }
   ],
   "source": [
    "dm=get_distance_matrix(get_morgan_fingerprints(df['rdkit']))"
   ]
  },
  {
   "cell_type": "code",
   "execution_count": 75,
   "metadata": {},
   "outputs": [
    {
     "name": "stderr",
     "output_type": "stream",
     "text": [
      "100%|██████████| 6/6 [00:41<00:00,  6.99s/it]\n"
     ]
    }
   ],
   "source": [
    "spl = BiolabSplitter(dm, 7)\n",
    "folds = spl.create_folds()\n",
    "\n",
    "train_val_folds, train_test = create_test_set_from_folds(folds, 0)"
   ]
  },
  {
   "cell_type": "code",
   "execution_count": 76,
   "metadata": {},
   "outputs": [],
   "source": [
    "with open(base_path+'/train_val_folds.pkl', \"wb\") as out_f:\n",
    "    dill.dump(train_val_folds, out_f) \n",
    "    \n",
    "with open(base_path+'/train_test_folds.pkl', \"wb\") as out_f:\n",
    "    dill.dump(train_test, out_f) "
   ]
  }
 ],
 "metadata": {
  "kernelspec": {
   "display_name": "Python 3",
   "language": "python",
   "name": "python3"
  },
  "language_info": {
   "codemirror_mode": {
    "name": "ipython",
    "version": 3
   },
   "file_extension": ".py",
   "mimetype": "text/x-python",
   "name": "python",
   "nbconvert_exporter": "python",
   "pygments_lexer": "ipython3",
   "version": "3.6.10"
  }
 },
 "nbformat": 4,
 "nbformat_minor": 4
}
