{
  "nbformat": 4,
  "nbformat_minor": 0,
  "metadata": {
    "colab": {
      "name": "XGBoost.ipynb",
      "provenance": [],
      "private_outputs": true,
      "collapsed_sections": [],
      "toc_visible": true
    },
    "kernelspec": {
      "name": "python3",
      "display_name": "Python 3"
    },
    "accelerator": "GPU"
  },
  "cells": [
    {
      "cell_type": "code",
      "metadata": {
        "id": "PqDTpgIv0DcZ",
        "colab_type": "code",
        "colab": {}
      },
      "source": [
        "!wget -c https://repo.continuum.io/miniconda/Miniconda3-latest-Linux-x86_64.sh\n",
        "!chmod +x Miniconda3-latest-Linux-x86_64.sh\n",
        "!time bash ./Miniconda3-latest-Linux-x86_64.sh -b -f -p /usr/local\n",
        "!time conda install -q -y -c conda-forge rdkit\n",
        "import matplotlib.pyplot as plt\n",
        "import sys\n",
        "import os\n",
        "sys.path.append('/usr/local/lib/python3.7/site-packages/')\n",
        "!pip install xgboost\n",
        "!pip install scikit-optimize\n",
        "!pip install scikit-plot"
      ],
      "execution_count": 0,
      "outputs": []
    },
    {
      "cell_type": "code",
      "metadata": {
        "id": "Jtv9uDyt0Q6p",
        "colab_type": "code",
        "colab": {}
      },
      "source": [
        "from google.colab import drive\n",
        "drive.mount('/content/drive')"
      ],
      "execution_count": 0,
      "outputs": []
    },
    {
      "cell_type": "code",
      "metadata": {
        "id": "O4O3-homGp2g",
        "colab_type": "code",
        "colab": {}
      },
      "source": [
        "!cp -r \"/content/drive/My Drive/binding/customs/utils\" /content"
      ],
      "execution_count": 0,
      "outputs": []
    },
    {
      "cell_type": "code",
      "metadata": {
        "id": "4srdWGjh0U4L",
        "colab_type": "code",
        "colab": {}
      },
      "source": [
        "%tensorflow_version 1.x\n",
        "import tensorflow as tf\n",
        "import numpy as np\n",
        "import pandas as pd\n",
        "import xgboost as xgb\n",
        "\n",
        "from rdkit import Chem\n",
        "from rdkit.Chem import Draw, Descriptors\n",
        "from rdkit.Chem import AllChem\n",
        "\n",
        "from sklearn.metrics import roc_auc_score,precision_score,recall_score,accuracy_score\n",
        "\n",
        "from xgboost import XGBClassifier\n",
        "from sklearn.metrics import f1_score\n",
        "\n",
        "from skopt import gp_minimize\n",
        "from skopt.space import Real, Integer, Categorical\n",
        "import numpy as np\n",
        "from sklearn.datasets import make_classification\n",
        "from sklearn.model_selection import train_test_split\n",
        "from functools import partial\n",
        "\n",
        "from utils.data_analysis import calculate_metrics"
      ],
      "execution_count": 0,
      "outputs": []
    },
    {
      "cell_type": "code",
      "metadata": {
        "id": "sYAZKFFv0XyU",
        "colab_type": "code",
        "colab": {}
      },
      "source": [
        "#Training Data\n",
        "train_0 = pd.read_csv('/content/drive/My Drive/p38_splits/train_0.csv',index_col = 0)\n",
        "train_1 = pd.read_csv('/content/drive/My Drive/p38_splits/train_1.csv',index_col = 0)\n",
        "train_2 = pd.read_csv('/content/drive/My Drive/p38_splits/train_2.csv',index_col = 0)\n",
        "train_3 = pd.read_csv('/content/drive/My Drive/p38_splits/train_3.csv',index_col = 0)\n",
        "train_4 = pd.read_csv('/content/drive/My Drive/p38_splits/train_4.csv',index_col = 0)\n",
        "train_5 = pd.read_csv('/content/drive/My Drive/p38_splits/train_5.csv',index_col = 0)\n",
        "train_6 = pd.read_csv('/content/drive/My Drive/p38_splits/train_6.csv',index_col = 0)\n",
        "\n",
        "training_list = [train_0,train_1,train_2,train_3,train_4,train_5,train_6]\n",
        "\n",
        "#Validation Data\n",
        "val_0 = pd.read_csv('/content/drive/My Drive/p38_splits/val_0.csv',index_col=0)\n",
        "val_1 = pd.read_csv('/content/drive/My Drive/p38_splits/val_1.csv',index_col=0)\n",
        "val_2 = pd.read_csv('/content/drive/My Drive/p38_splits/val_2.csv',index_col=0)\n",
        "val_3 = pd.read_csv('/content/drive/My Drive/p38_splits/val_3.csv',index_col=0)\n",
        "val_4 = pd.read_csv('/content/drive/My Drive/p38_splits/val_4.csv',index_col=0)\n",
        "val_5 = pd.read_csv('/content/drive/My Drive/p38_splits/val_5.csv',index_col=0)\n",
        "val_6 = pd.read_csv('/content/drive/My Drive/p38_splits/val_6.csv',index_col=0)\n",
        "\n",
        "validation_list = [val_0,val_1,val_2,val_3,val_4,val_5,val_6]"
      ],
      "execution_count": 0,
      "outputs": []
    },
    {
      "cell_type": "code",
      "metadata": {
        "id": "gulV8Q2lTVza",
        "colab_type": "code",
        "colab": {}
      },
      "source": [
        "def xgb_fun(train,val,num_round,opt):\n",
        "\n",
        "  #Training\n",
        "  smi_train = train.rdkit\n",
        "  mols_train = [Chem.MolFromSmiles(smi) for smi in smi_train]\n",
        "  ECFP_train = [AllChem.GetMorganFingerprintAsBitVect(x,2,nBits=1024) for x in mols_train] \n",
        "  a_train = np.array(ECFP_train)\n",
        "  ECFP_smiles_train = a_train.astype(np.float32)\n",
        "\n",
        "  binary_train = train.Binary\n",
        "\n",
        "  #Validation\n",
        "  smi_cold = val.rdkit\n",
        "  mols_cold = [Chem.MolFromSmiles(smi) for smi in smi_cold]\n",
        "  ECFP_cold = [AllChem.GetMorganFingerprintAsBitVect(x,2,nBits=1024) for x in mols_cold]\n",
        "  a_cold = np.array(ECFP_cold)\n",
        "  ECFP_cold = a_cold.astype(np.float32)\n",
        "\n",
        "  binary_cold = val.Binary\n",
        "\n",
        "  #XGBoost Matrices\n",
        "  dtrain = xgb.DMatrix(data = ECFP_smiles_train, label = binary_train)\n",
        "  dtest = xgb.DMatrix(data = ECFP_cold, label = binary_cold)\n",
        "\n",
        "  #Parameters\n",
        "  param = opt\n",
        "  evallist = [(dtest, 'eval'), (dtrain, 'train')]\n",
        "\n",
        "  #Train\n",
        "  bst = xgb.train(param, dtrain, num_round, evallist)\n",
        "\n",
        "  #Predictions\n",
        "  ypred = bst.predict(dtest)\n",
        "  metrics = calculate_metrics(np.array(binary_cold),ypred,plots=True)\n",
        "  \n",
        "  return(metrics)"
      ],
      "execution_count": 0,
      "outputs": []
    },
    {
      "cell_type": "markdown",
      "metadata": {
        "id": "Xk19svKHUzVY",
        "colab_type": "text"
      },
      "source": [
        "# Hyperparameter tuning"
      ]
    },
    {
      "cell_type": "code",
      "metadata": {
        "id": "N9EnuPTLUysV",
        "colab_type": "code",
        "colab": {}
      },
      "source": [
        "# defining the space\n",
        "space = [\n",
        "    Real(0.1, 1.0, name=\"colsample_bylevel\"),\n",
        "    Real(0.1, 1.0, name=\"colsample_bytree\"),\n",
        "    Real(0.1, 1.0, name=\"gamma\"),\n",
        "    Real(0.1, 1.0, name=\"learning_rate\"),\n",
        "    Real(0.1, 10, name=\"max_delta_step\"),\n",
        "    Integer(6, 15, name=\"max_depth\"),\n",
        "    Real(10.0, 500.0, name=\"min_child_weight\"),\n",
        "    Integer(10, 100, name=\"n_estimators\"),\n",
        "    Real(0.1, 100, name=\"reg_alpha\"),\n",
        "    Real(0.1, 100, name=\"reg_lambda\"),\n",
        "    Real(0.1, 1.0, name=\"subsample\"),\n",
        "]\n"
      ],
      "execution_count": 0,
      "outputs": []
    },
    {
      "cell_type": "code",
      "metadata": {
        "id": "4fWEuhD7U40t",
        "colab_type": "code",
        "colab": {}
      },
      "source": [
        "# function to fit the model and return the performance of the model\n",
        "def return_model_assessment(args, X_train, y_train, X_test, y_test):\n",
        "    global models, train_scores, test_scores, curr_model_hyper_params\n",
        "    params = {curr_model_hyper_params[i]: args[i] for i, j in enumerate(curr_model_hyper_params)}\n",
        "    model = XGBClassifier()\n",
        "    model.set_params(**params)\n",
        "    fitted_model = model.fit(X_train, y_train, sample_weight=None)\n",
        "    models.append(fitted_model)\n",
        "    train_predictions = model.predict(X_train)\n",
        "    test_predictions = model.predict(X_test)\n",
        "    train_score = f1_score(train_predictions, y_train)\n",
        "    test_score = f1_score(test_predictions, y_test)\n",
        "    train_scores.append(train_score)\n",
        "    test_scores.append(test_score)\n",
        "    return 1 - test_score\n"
      ],
      "execution_count": 0,
      "outputs": []
    },
    {
      "cell_type": "code",
      "metadata": {
        "id": "vsIOSYWgU8dk",
        "colab_type": "code",
        "colab": {}
      },
      "source": [
        "#Training\n",
        "smi_train = train_3.rdkit\n",
        "mols_train = [Chem.MolFromSmiles(smi) for smi in smi_train]\n",
        "ECFP_train = [AllChem.GetMorganFingerprintAsBitVect(x,2,nBits=1024) for x in mols_train] \n",
        "a_train = np.array(ECFP_train)\n",
        "ECFP_smiles_train = a_train.astype(np.float32)\n",
        "\n",
        "binary_train = train_3.Binary\n",
        "\n",
        "#Validation\n",
        "smi_cold = val_3.rdkit\n",
        "mols_cold = [Chem.MolFromSmiles(smi) for smi in smi_cold]\n",
        "ECFP_cold = [AllChem.GetMorganFingerprintAsBitVect(x,2,nBits=1024) for x in mols_cold]\n",
        "a_cold = np.array(ECFP_cold)\n",
        "ECFP_cold = a_cold.astype(np.float32)\n",
        "\n",
        "binary_cold = val_3.Binary\n",
        "models = []\n",
        "train_scores = []\n",
        "test_scores = []\n",
        "curr_model_hyper_params = ['colsample_bylevel', 'colsample_bytree', \n",
        "                           'gamma', 'learning_rate', 'max_delta_step','max_depth', 'min_child_weight', 'n_estimators', 'reg_alpha', 'reg_lambda', 'subsample']\n",
        "objective_function = partial(return_model_assessment, X_train=ECFP_smiles_train, y_train=binary_train, X_test=ECFP_cold, y_test=binary_cold)\n",
        "\n",
        "# running the algorithm\n",
        "n_calls = 200 # number of times you want to train your model\n",
        "results = gp_minimize(objective_function, space, base_estimator=None, n_calls=n_calls, n_random_starts=n_calls-1)\n",
        "\n",
        "import plotly.express as px\n",
        "metrics = pd.DataFrame(train_scores + test_scores)\n",
        "metrics.loc[:,'dataset'] = [\"train_score\"]*n_calls + [\"test_score\"]*n_calls\n",
        "metrics.loc[:,'Iteration Number'] = list(range(1,n_calls+1)) + list(range(1,n_calls+1))\n",
        "metrics.columns = [\"F1 Score\", \"dataset\", \"Iteration Number\"]\n",
        "fig = px.line(metrics, x=\"Iteration Number\", y=\"F1 Score\", color=\"dataset\")\n",
        "fig.show()"
      ],
      "execution_count": 0,
      "outputs": []
    },
    {
      "cell_type": "code",
      "metadata": {
        "id": "SB7esdWxZhUM",
        "colab_type": "code",
        "colab": {}
      },
      "source": [
        "best_train = metrics['F1 Score'][0:(n_calls-1)].idxmax()\n",
        "best_test = metrics['F1 Score'][(n_calls-1):(2*n_calls-1)].idxmax()\n",
        "if best_train>best_test:\n",
        "  best = results.x_iters[best]\n",
        "else:\n",
        "  best = results.x_iters[best-n_calls]\n",
        "\n",
        "param = {\"colsample_bylevel\": best[0],\"colsample_bytree\":best[1],\n",
        "         \"gamma\":best[2],\"eta\":best[3],\"max_delta_step\":best[4],\"max_depth\":best[5],\n",
        "         \"min_child_weight\":best[6],\"n_estimators\":best[7],\"alpha\":best[8],\"lambda\":best[9],\"subsample\":best[10],\n",
        "         'eval_metric':'auc'} #best f1_score p38\n",
        "\n",
        "del train_scores,test_scores\n",
        "del metrics,results,objective_function,curr_model_hyper_params\n",
        "del models"
      ],
      "execution_count": 0,
      "outputs": []
    },
    {
      "cell_type": "code",
      "metadata": {
        "id": "UThxKZVqwllh",
        "colab_type": "code",
        "colab": {}
      },
      "source": [
        "model_evals = []\n",
        "for i in range(len(training_list)):\n",
        "  results = xgb_fun(training_list[i],validation_list[i],n_calls,param)\n",
        "  model_evals.append(results)\n",
        "\n",
        "model_evals = pd.DataFrame(model_evals)\n",
        "model_evals.to_csv('/content/results_xgboost.csv')  \n",
        "\n"
      ],
      "execution_count": 0,
      "outputs": []
    }
  ]
}