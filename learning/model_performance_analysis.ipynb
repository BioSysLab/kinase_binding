{
 "cells": [
  {
   "cell_type": "code",
   "execution_count": null,
   "metadata": {},
   "outputs": [],
   "source": [
    "import matplotlib.pyplot as plt\n",
    "import os\n",
    "import glob\n",
    "import numpy as np\n",
    "import pandas as pd\n",
    "from keras.callbacks import EarlyStopping, ReduceLROnPlateau\n",
    "\n",
    "from utils.model_builders import GCN\n",
    "from utils.model_builders import calculate_metrics"
   ]
  },
  {
   "cell_type": "markdown",
   "metadata": {},
   "source": [
    "# Build/Load model"
   ]
  },
  {
   "cell_type": "code",
   "execution_count": null,
   "metadata": {},
   "outputs": [],
   "source": [
    "es = EarlyStopping(monitor='loss', patience=8, min_delta=0)\n",
    "rlr = ReduceLROnPlateau(monitor='loss', factor=0.5, patience=4, verbose=1, min_lr=0.0000001)\n",
    "\n",
    "gcn_model_params = {\n",
    "    \"num_layers\": 3,\n",
    "    \"max_atoms\": 70,\n",
    "    \"num_atom_features\": 62,\n",
    "    \"num_atom_features_original\": 62,\n",
    "    \"num_bond_features\": 6,\n",
    "    \"max_degree\": 5,\n",
    "    \"conv_width\": [32, 64, 96],\n",
    "    \"fp_length\": [96, 96, 96],\n",
    "    \"activ_enc\": \"selu\",\n",
    "    \"activ_dec\": \"selu\",\n",
    "    \"learning_rates\": [0.001, 0.001, 0.001],\n",
    "    \"learning_rates_fp\": [0.005, 0.005, 0.005],\n",
    "    \"losses_conv\": {\n",
    "        \"neighbor_output\": \"mean_squared_error\",\n",
    "        \"self_output\": \"mean_squared_error\",\n",
    "    },\n",
    "    \"lossWeights\": {\"neighbor_output\": 1.0, \"self_output\": 1.0},\n",
    "    \"metrics\": \"mse\",\n",
    "    \"loss_fp\": \"mean_squared_error\",\n",
    "    \"enc_layer_names\": [\"enc_1\", \"enc_2\", \"enc_3\"],\n",
    "    'callbacks': [es, rlr],\n",
    "    'adam_decay': 0.0005329142291371636,\n",
    "    'beta': 5,\n",
    "    'p': 0.004465204118126482\n",
    "}"
   ]
  },
  {
   "cell_type": "code",
   "execution_count": null,
   "metadata": {},
   "outputs": [],
   "source": [
    "gcn = GCN(gcn_model_params)\n",
    "model = gcn.build_combined_onehot()"
   ]
  },
  {
   "cell_type": "markdown",
   "metadata": {},
   "source": [
    "# Load Data"
   ]
  },
  {
   "cell_type": "code",
   "execution_count": null,
   "metadata": {},
   "outputs": [],
   "source": [
    "base_path = '/Users/panos/Desktop/biolab/kinase_binding/learning'\n",
    "target = 'p38'"
   ]
  },
  {
   "cell_type": "code",
   "execution_count": null,
   "metadata": {},
   "outputs": [],
   "source": [
    "# no need for manual changes in this cell\n",
    "train_files = os.path.join(base_path, f'data/{target}/data_crossval/fold_{{}}/train_{{}}.csv')\n",
    "val_files = os.path.join(base_path, f'data/{target}/data_crossval/fold_{{}}/val_cold_{{}}.csv')\n",
    "weight_files = os.path.join(base_path, f'data/{target}/{target}_AutoEnc_Model/First Run/Weights/weights_model_{{}}.h5')"
   ]
  },
  {
   "cell_type": "code",
   "execution_count": null,
   "metadata": {},
   "outputs": [],
   "source": [
    "train_sets = [pd.read_csv(train_files.format(i,i), index_col = 0) if 'Unnamed: 0' in pd.read_csv(train_files.format(i,i)) else pd.read_csv(train_files.format(i,i)) for i in range(1,8)]\n",
    "val_sets = [pd.read_csv(val_files.format(i,i), index_col = 0) if 'Unnamed: 0' in pd.read_csv(val_files.format(i,i)) else pd.read_csv(val_files.format(i,i)) for i in range(1,8)]"
   ]
  },
  {
   "cell_type": "markdown",
   "metadata": {},
   "source": [
    "# predict"
   ]
  },
  {
   "cell_type": "code",
   "execution_count": null,
   "metadata": {},
   "outputs": [],
   "source": [
    "preds = []\n",
    "for i, df_val in enumerate(val_sets):\n",
    "    y_true = df_val.Binary\n",
    "    input_data = gcn.dataframe_to_gcn_input(df_val)\n",
    "    model.load_weights(weight_files.format(i,i))\n",
    "    preds.append(model.predict(input_data))"
   ]
  },
  {
   "cell_type": "code",
   "execution_count": null,
   "metadata": {
    "scrolled": true
   },
   "outputs": [],
   "source": [
    "dfs = []\n",
    "for i, (y_pred, df_val) in enumerate(zip(preds, val_sets)):\n",
    "    print(f'fold {i}\\n')\n",
    "    y_true = df_val.Binary\n",
    "    dfs.append(calculate_metrics(y_true.values, y_pred.squeeze(), plots=True))\n",
    "    metrics = pd.DataFrame(dfs)\n",
    "metrics"
   ]
  }
 ],
 "metadata": {
  "kernelspec": {
   "display_name": "Python 3",
   "language": "python",
   "name": "python3"
  },
  "language_info": {
   "codemirror_mode": {
    "name": "ipython",
    "version": 3
   },
   "file_extension": ".py",
   "mimetype": "text/x-python",
   "name": "python",
   "nbconvert_exporter": "python",
   "pygments_lexer": "ipython3",
   "version": "3.7.7"
  }
 },
 "nbformat": 4,
 "nbformat_minor": 2
}
